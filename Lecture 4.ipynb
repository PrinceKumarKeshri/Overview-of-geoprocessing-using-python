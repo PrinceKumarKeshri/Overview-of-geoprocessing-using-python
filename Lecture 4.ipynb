{
 "cells": [
  {
   "cell_type": "markdown",
   "metadata": {},
   "source": [
    "# *Raster  data processing using python"
   ]
  },
  {
   "cell_type": "markdown",
   "metadata": {},
   "source": [
    "### Raster data\n",
    "\n",
    "> Raster data represent objects/variables on the Earth's surface as a matrix of values, in the form of pixels, cells, or grids"
   ]
  },
  {
   "cell_type": "markdown",
   "metadata": {},
   "source": [
    "#### Layers and bands\n",
    "\n",
    ">A raster is an image with a matrix of values representing the values of some observed attribute. Bands of a raster Correspond to different variables, usually using the same matrix sturcture.\n",
    "\n",
    ">Example : Spatial variability of temperature, elevation, rainfall, etc. over a region."
   ]
  },
  {
   "cell_type": "markdown",
   "metadata": {},
   "source": [
    "### Raster Bands\n",
    "\n",
    ">Some rasters have a single band, of data, while others have multiple bands. Basically, a band is represented by a single matrix of cell values, and a raster with multiple bands contains multiple spatially coincident matrices of cell values represent the same spatial area. An example of a single-band raster dataset is a digital elevation model(DEM). Each cell in a DEM contains only one value representing surface elevation."
   ]
  },
  {
   "cell_type": "markdown",
   "metadata": {},
   "source": [
    "####  Single Band Raster\n",
    "\n",
    ">We can represent single band raster in three ways :\n",
    "\n",
    ">>1. Binary image\n",
    "2. Grayscale image\n",
    ">>3. Display colormap image"
   ]
  },
  {
   "cell_type": "markdown",
   "metadata": {},
   "source": [
    "#### Multi Band Raster\n",
    "\n",
    "A satellite image, for example, commonly has multiple bands representing different wavelength from the ultravoilet through the visible and infrared portions of the electromagnetic spectrum"
   ]
  },
  {
   "cell_type": "markdown",
   "metadata": {},
   "source": [
    "###  Note : For reading raster image we are using the library name called as GADL"
   ]
  },
  {
   "cell_type": "markdown",
   "metadata": {},
   "source": [
    "### Introduction to GDAL\n",
    "\n",
    "The geospatial data abstraction library is a computer software library for reading and writing raster and vector geospatial data format.\n",
    "\n",
    "### Advantages of GDAL \n",
    "\n",
    "> Free aand open source(https://github.com/OSGeo/gdal).\n",
    "\n",
    "> Support for over 80+ image formats and map projections.\n",
    "\n",
    "> Command line as well as c/c++/python/R/java/API.\n",
    "\n",
    "> Used extensively by words large geospatial data services.\n",
    "\n",
    "> Extensively test suite and active developer community.\n",
    "\n",
    "> GDAL also includes extensive support for vector datasets."
   ]
  },
  {
   "cell_type": "markdown",
   "metadata": {},
   "source": [
    "### GDAL raster model\n",
    "\n",
    "> https://google.com"
   ]
  },
  {
   "cell_type": "markdown",
   "metadata": {},
   "source": [
    "### Map projection\n",
    "\n",
    "A map projection is a way to flatten a earth's surface into a plane in order to make a map. This requires a systematic transformation of the latitudes and logitudes of locations from the surface of the globe into locations on a plane. All projections of a sphere on a plane necessarily distor the surface in some way and to some extent\n",
    "\n",
    "> There are four ways for map projection :\n",
    "\n",
    ">> Geographic\n",
    "\n",
    ">> Web mercator(conformal)\n",
    "\n",
    ">> Gall peters (equal area)\n",
    "\n",
    ">> Azimuthal equidistant"
   ]
  },
  {
   "cell_type": "markdown",
   "metadata": {},
   "source": [
    "### Coordinate System\n",
    "\n",
    "> There are numerous conventions used globally for representing the coordinate system for map data.\n",
    "\n",
    ">> PROJ4 - https://proj4.org/usage/projections.html\n",
    "\n",
    ">> OGC WKT (defacto standard) - http://docs.opengeospatial.org/is/12-063r5/12-063r5.html\n",
    "\n",
    ">> ESPG codes (Easy to use) - http://spatialreference.org/ref/epsg/\n",
    "\n",
    ">> XML etc"
   ]
  },
  {
   "cell_type": "markdown",
   "metadata": {},
   "source": [
    "### Coordinate of image\n",
    "\n",
    ">> https://google.com"
   ]
  },
  {
   "cell_type": "markdown",
   "metadata": {},
   "source": [
    "### Pixel line to real coordinate\n",
    "\n",
    ">\n",
    "    index                       Description\n",
    "\n",
    ">\n",
    "    0                           Origin x coordinate\n",
    "\n",
    ">\n",
    "    1                           Pixel width\n",
    "\n",
    ">\n",
    "    2                           x pixel rotation (O^o if image is north up)\n",
    "\n",
    ">\n",
    "    3                           Origin y coordinate\n",
    "\n",
    ">\n",
    "    4                           y pixel rotation (O^o if image is north up)\n",
    "\n",
    ">\n",
    "    5                           Pixel height (negative)"
   ]
  },
  {
   "cell_type": "code",
   "execution_count": 15,
   "metadata": {},
   "outputs": [],
   "source": [
    "import os\n",
    "os.chdir(r'C:/Users/0526p/Downloads')"
   ]
  },
  {
   "cell_type": "code",
   "execution_count": 16,
   "metadata": {
    "scrolled": true
   },
   "outputs": [
    {
     "name": "stdout",
     "output_type": "stream",
     "text": [
      "Usage: gdalinfo [--help-general] [-json] [-mm] [-stats] [-hist] [-nogcp] [-nomd]\n",
      "                [-norat] [-noct] [-nofl] [-checksum] [-proj4]\n",
      "                [-listmdd] [-mdd domain|`all`]*\n",
      "                [-sd subdataset] [-oo NAME=VALUE]* datasetname\n"
     ]
    },
    {
     "name": "stderr",
     "output_type": "stream",
     "text": [
      "ERROR 6: Too many command options '.tif'\n"
     ]
    }
   ],
   "source": [
    "!gdalinfo -nomd download .tif"
   ]
  },
  {
   "cell_type": "markdown",
   "metadata": {},
   "source": [
    "### Getting Raster information with python"
   ]
  },
  {
   "cell_type": "code",
   "execution_count": 11,
   "metadata": {},
   "outputs": [
    {
     "ename": "ModuleNotFoundError",
     "evalue": "No module named 'osgeo'",
     "output_type": "error",
     "traceback": [
      "\u001b[1;31m---------------------------------------------------------------------------\u001b[0m",
      "\u001b[1;31mModuleNotFoundError\u001b[0m                       Traceback (most recent call last)",
      "\u001b[1;32m<ipython-input-11-61e0eefce4de>\u001b[0m in \u001b[0;36m<module>\u001b[1;34m\u001b[0m\n\u001b[1;32m----> 1\u001b[1;33m \u001b[1;32mfrom\u001b[0m \u001b[0mosgeo\u001b[0m \u001b[1;32mimport\u001b[0m \u001b[0mgdal\u001b[0m\u001b[1;33m\u001b[0m\u001b[1;33m\u001b[0m\u001b[0m\n\u001b[0m",
      "\u001b[1;31mModuleNotFoundError\u001b[0m: No module named 'osgeo'"
     ]
    }
   ],
   "source": [
    "from osgeo import gdal"
   ]
  },
  {
   "cell_type": "code",
   "execution_count": null,
   "metadata": {},
   "outputs": [],
   "source": [
    "import matplotlib.pyplot as plt\n",
    "import numpy as np\n",
    "from pathlib as import path\n",
    "import os\n",
    "from osgeo import osr\n",
    "import math"
   ]
  },
  {
   "cell_type": "code",
   "execution_count": null,
   "metadata": {},
   "outputs": [],
   "source": [
    "base_dir = r'C:/Users/0526p/Downloads'"
   ]
  },
  {
   "cell_type": "code",
   "execution_count": null,
   "metadata": {},
   "outputs": [],
   "source": [
    "os.chdir(base_dir)"
   ]
  },
  {
   "cell_type": "code",
   "execution_count": null,
   "metadata": {},
   "outputs": [],
   "source": [
    "file_name=r'download .tif'"
   ]
  },
  {
   "cell_type": "code",
   "execution_count": 8,
   "metadata": {},
   "outputs": [
    {
     "ename": "NameError",
     "evalue": "name 'gdal' is not defined",
     "output_type": "error",
     "traceback": [
      "\u001b[1;31m---------------------------------------------------------------------------\u001b[0m",
      "\u001b[1;31mNameError\u001b[0m                                 Traceback (most recent call last)",
      "\u001b[1;32m<ipython-input-8-e6b726897248>\u001b[0m in \u001b[0;36m<module>\u001b[1;34m\u001b[0m\n\u001b[1;32m----> 1\u001b[1;33m \u001b[0mds\u001b[0m\u001b[1;33m=\u001b[0m\u001b[0mgdal\u001b[0m\u001b[1;33m.\u001b[0m\u001b[0mopen\u001b[0m\u001b[1;33m(\u001b[0m\u001b[0mfile_name\u001b[0m\u001b[1;33m)\u001b[0m\u001b[1;33m\u001b[0m\u001b[1;33m\u001b[0m\u001b[0m\n\u001b[0m\u001b[0;32m      2\u001b[0m \u001b[0mds\u001b[0m\u001b[1;33m\u001b[0m\u001b[1;33m\u001b[0m\u001b[0m\n",
      "\u001b[1;31mNameError\u001b[0m: name 'gdal' is not defined"
     ]
    }
   ],
   "source": [
    "ds=gdal.open(file_name)\n",
    "print(ds)"
   ]
  },
  {
   "cell_type": "code",
   "execution_count": null,
   "metadata": {},
   "outputs": [],
   "source": [
    "print('file list : ',ds.GetFileList())"
   ]
  },
  {
   "cell_type": "code",
   "execution_count": null,
   "metadata": {},
   "outputs": [],
   "source": [
    "print('width : ',ds.RasterXSize)"
   ]
  },
  {
   "cell_type": "code",
   "execution_count": null,
   "metadata": {},
   "outputs": [],
   "source": [
    "print('height : ',ds.RasterYSize)"
   ]
  },
  {
   "cell_type": "code",
   "execution_count": null,
   "metadata": {},
   "outputs": [],
   "source": [
    "print('coordinate system :',ds.GetProjection())"
   ]
  },
  {
   "cell_type": "code",
   "execution_count": null,
   "metadata": {},
   "outputs": [],
   "source": [
    "gt=ds.GetGeoTransform()\n",
    "gt"
   ]
  },
  {
   "cell_type": "code",
   "execution_count": null,
   "metadata": {},
   "outputs": [],
   "source": [
    "print('Origin : ',(gt[0],gt[3]))\n",
    "print('pxiel size : ',(gt[1],gt[5]))"
   ]
  },
  {
   "cell_type": "code",
   "execution_count": null,
   "metadata": {},
   "outputs": [],
   "source": [
    "print('upper left corner : ',gdlApplyGeoTransform(gt,0,0))\n",
    "print('upper right corner : ',gdalApplyGeotransform(gt,ds.RasterXSize,0))\n",
    "print('lower left corner : ',gdalApplyGeotransform(gt,0,ds.RasterXSize))\n",
    "print('lower right corner : ',gdalApplyGeotransform(gt,ds.RasterXSize,ds.RasterYSize))\n",
    "print('center : ',gdalApplyGeotransform(gt,ds.RasterXSize/2,ds.RasterYSize/2))        "
   ]
  },
  {
   "cell_type": "code",
   "execution_count": null,
   "metadata": {},
   "outputs": [],
   "source": [
    "print('Metadata : ', ds.GetMetadata())"
   ]
  },
  {
   "cell_type": "code",
   "execution_count": 12,
   "metadata": {},
   "outputs": [],
   "source": [
    "import pprint"
   ]
  },
  {
   "cell_type": "code",
   "execution_count": null,
   "metadata": {},
   "outputs": [],
   "source": [
    "pprint.pprint(ds.GetMetadata())"
   ]
  },
  {
   "cell_type": "code",
   "execution_count": null,
   "metadata": {},
   "outputs": [],
   "source": [
    "print('image structure Metadata : ',ds.GetMetadata('IMAGE_STRUCTURE'))"
   ]
  },
  {
   "cell_type": "code",
   "execution_count": null,
   "metadata": {},
   "outputs": [],
   "source": [
    "print('Number of bands : ',ds.RasterCount)"
   ]
  },
  {
   "cell_type": "code",
   "execution_count": null,
   "metadata": {},
   "outputs": [],
   "source": [
    "for i in range(1,ds.RasterCount+1):\n",
    "    band =ds.GetRasterBand(i)\n",
    "    interp=band.GetColorInterpretation()\n",
    "    interp_name=gdal.GetColorInterpretationName(interp)\n",
    "    (w,h)=band.GetBlockSize()\n",
    "    print('Band {0:d}, block size{1:d}, color interp {3:s}'.format(i,w,h,interp_name))\n",
    "    ovr_count=band.GetOverviewCount()\n",
    "    for j in range(ovr_count):\n",
    "        ovr_band=band.GetOverview(j)\n",
    "        print('overview % d : %d x %d' %(j, ovr_band.XSize, ovr_band.YSize))"
   ]
  },
  {
   "cell_type": "code",
   "execution_count": null,
   "metadata": {},
   "outputs": [],
   "source": [
    "del ds"
   ]
  },
  {
   "cell_type": "code",
   "execution_count": null,
   "metadata": {},
   "outputs": [],
   "source": [
    "!gdalinfo -stats download .tif"
   ]
  },
  {
   "cell_type": "code",
   "execution_count": null,
   "metadata": {},
   "outputs": [],
   "source": [
    "ds=gdal.Open(file_name)"
   ]
  },
  {
   "cell_type": "code",
   "execution_count": null,
   "metadata": {},
   "outputs": [],
   "source": [
    "for i in range(1, ds.RasterCount+1):\n",
    "    band ds.GetRasterBand(i)\n",
    "    (minimum, maximum, mean, stddev) =band.ComputeStatistics(False)\n",
    "    print('Brand{:d}, min={:.3f}, max={:.3f},mean={:.3f},stddev={:.3f}'.format(i,minimum, maximum))"
   ]
  },
  {
   "cell_type": "code",
   "execution_count": null,
   "metadata": {},
   "outputs": [],
   "source": [
    "ds"
   ]
  },
  {
   "cell_type": "code",
   "execution_count": null,
   "metadata": {},
   "outputs": [],
   "source": [
    "band=ds.GerRasterBand(1)"
   ]
  },
  {
   "cell_type": "code",
   "execution_count": null,
   "metadata": {},
   "outputs": [],
   "source": [
    "print(band)"
   ]
  },
  {
   "cell_type": "code",
   "execution_count": null,
   "metadata": {},
   "outputs": [],
   "source": [
    "data=band.ReadAsArray()"
   ]
  },
  {
   "cell_type": "code",
   "execution_count": null,
   "metadata": {},
   "outputs": [],
   "source": [
    "data"
   ]
  },
  {
   "cell_type": "code",
   "execution_count": null,
   "metadata": {},
   "outputs": [],
   "source": [
    "plt.figure(figsize=(10,10))\n",
    "plt.imshow(data,cmap='gray')"
   ]
  },
  {
   "cell_type": "code",
   "execution_count": null,
   "metadata": {},
   "outputs": [],
   "source": [
    "plt.figure(figsize=(30,30))"
   ]
  },
  {
   "cell_type": "code",
   "execution_count": null,
   "metadata": {},
   "outputs": [],
   "source": [
    "plt.figure(figsize=(30,30))\n",
    "for i in range(1,ds.RasterCount+1):\n",
    "    band = ds.GetRasterBand(i)\n",
    "    plt.subplot(1,3,i)\n",
    "    p;t.imshow(band.ReadAsArray(),cmap='gray')"
   ]
  },
  {
   "cell_type": "code",
   "execution_count": null,
   "metadata": {},
   "outputs": [],
   "source": [
    "plt.close()"
   ]
  },
  {
   "cell_type": "markdown",
   "metadata": {},
   "source": [
    "### Visualise MultiBand Raster"
   ]
  },
  {
   "cell_type": "code",
   "execution_count": null,
   "metadata": {},
   "outputs": [],
   "source": [
    "multi_data = ds.ReadAsArray()"
   ]
  },
  {
   "cell_type": "code",
   "execution_count": null,
   "metadata": {},
   "outputs": [],
   "source": [
    "multi_data.shape"
   ]
  },
  {
   "cell_type": "code",
   "execution_count": null,
   "metadata": {},
   "outputs": [],
   "source": [
    "reshaped_data=np.stack((multi_data[0],multi_data[1],multi_data[1], multi_data[2]), axis=-1)"
   ]
  },
  {
   "cell_type": "code",
   "execution_count": null,
   "metadata": {},
   "outputs": [],
   "source": [
    "plt.figure(figsize=(10,10))\n",
    "plt.imshow(reshaped_data)"
   ]
  },
  {
   "cell_type": "code",
   "execution_count": null,
   "metadata": {},
   "outputs": [],
   "source": [
    "plt.close()"
   ]
  },
  {
   "cell_type": "markdown",
   "metadata": {},
   "source": [
    "### Reading partial data set"
   ]
  },
  {
   "cell_type": "code",
   "execution_count": null,
   "metadata": {},
   "outputs": [],
   "source": [
    "data=band.ReadAsArray(xoff=600,yoff=600, win_xsize=512, win_ysize=512)"
   ]
  },
  {
   "cell_type": "code",
   "execution_count": null,
   "metadata": {},
   "outputs": [],
   "source": [
    "data.shape"
   ]
  },
  {
   "cell_type": "code",
   "execution_count": null,
   "metadata": {},
   "outputs": [],
   "source": [
    "plt.imshow(data, cmap='gray')"
   ]
  },
  {
   "cell_type": "code",
   "execution_count": null,
   "metadata": {},
   "outputs": [],
   "source": [
    "del data\n",
    "del ds"
   ]
  },
  {
   "cell_type": "markdown",
   "metadata": {},
   "source": [
    "### Reading Raster blockwise\n",
    "\n",
    "> Raster are made up of blocks. Block corresponds to a rectangular subpart of the raster. The first value is the width of the block and the second value its height. Knowing the block size is important when efficient reading of a raster is needed."
   ]
  },
  {
   "cell_type": "code",
   "execution_count": null,
   "metadata": {},
   "outputs": [],
   "source": [
    "ds=gdal.Open(file_name)"
   ]
  },
  {
   "cell_type": "code",
   "execution_count": null,
   "metadata": {},
   "outputs": [],
   "source": [
    "band=ds.GetRasterBand(1)"
   ]
  },
  {
   "cell_type": "code",
   "execution_count": null,
   "metadata": {},
   "outputs": [],
   "source": [
    "x_size = ds.RasterXSize\n",
    "y_size = ds.RasterYSize"
   ]
  },
  {
   "cell_type": "code",
   "execution_count": null,
   "metadata": {},
   "outputs": [],
   "source": [
    "block_size_x,block_size_y =band.GetBlockSize()"
   ]
  },
  {
   "cell_type": "code",
   "execution_count": null,
   "metadata": {},
   "outputs": [],
   "source": [
    "block_size_x, block_size_y"
   ]
  },
  {
   "cell_type": "code",
   "execution_count": null,
   "metadata": {},
   "outputs": [],
   "source": [
    "band.ReadAsArray()"
   ]
  },
  {
   "cell_type": "code",
   "execution_count": null,
   "metadata": {},
   "outputs": [],
   "source": [
    "data=band.ReadAsArray(xoff=600, yoff=600, win_xsize=512,win_ysize=512)"
   ]
  },
  {
   "cell_type": "code",
   "execution_count": null,
   "metadata": {},
   "outputs": [],
   "source": [
    "data"
   ]
  },
  {
   "cell_type": "code",
   "execution_count": null,
   "metadata": {},
   "outputs": [],
   "source": [
    "for x in range(0,x_size,block_size_x):\n",
    "    if x+block_size_x < x_size:\n",
    "        columns = block_size_x\n",
    "    else:\n",
    "        columns = x_size-x\n",
    "        for y in range(0,y_size,block_size_y):\n",
    "            if y+block_size_y < y_size:\n",
    "                rows=block_size_y\n",
    "            else:\n",
    "                rows=y_size-y\n",
    "        data=band.ReadAsArray(x,y,columns,rows)\n",
    "        data=data*5\n",
    "            "
   ]
  },
  {
   "cell_type": "markdown",
   "metadata": {},
   "source": [
    "### Reading HDF file\n",
    "\n",
    "> Hierarchical Data format(Hdf) is a set of file format (HDF4, HDF5) designed to store and organize large amounts of scientific data.\n",
    "\n",
    "### Subdatasets\n",
    "\n",
    "> https://google.com"
   ]
  },
  {
   "cell_type": "code",
   "execution_count": null,
   "metadata": {},
   "outputs": [],
   "source": [
    "hdf_file=''"
   ]
  },
  {
   "cell_type": "code",
   "execution_count": null,
   "metadata": {},
   "outputs": [],
   "source": [
    "ds=gdal.Open(hdf_file)"
   ]
  },
  {
   "cell_type": "code",
   "execution_count": null,
   "metadata": {},
   "outputs": [],
   "source": [
    "ds"
   ]
  },
  {
   "cell_type": "code",
   "execution_count": null,
   "metadata": {},
   "outputs": [],
   "source": [
    "sds=ds.GetSubDatasets()"
   ]
  },
  {
   "cell_type": "code",
   "execution_count": null,
   "metadata": {},
   "outputs": [],
   "source": [
    "sds"
   ]
  },
  {
   "cell_type": "code",
   "execution_count": null,
   "metadata": {},
   "outputs": [],
   "source": [
    "type(sds[0])"
   ]
  },
  {
   "cell_type": "code",
   "execution_count": null,
   "metadata": {},
   "outputs": [],
   "source": [
    "for sd,description in sds:\n",
    "    print(description)"
   ]
  },
  {
   "cell_type": "code",
   "execution_count": null,
   "metadata": {},
   "outputs": [],
   "source": [
    "print(sds[0])"
   ]
  },
  {
   "cell_type": "code",
   "execution_count": null,
   "metadata": {},
   "outputs": [],
   "source": [
    "data.Getprojection()"
   ]
  },
  {
   "cell_type": "code",
   "execution_count": null,
   "metadata": {},
   "outputs": [],
   "source": [
    "1st_day=data.ReadAsArray()"
   ]
  },
  {
   "cell_type": "code",
   "execution_count": null,
   "metadata": {},
   "outputs": [],
   "source": [
    "plt.imshow(1st_day,cmap='hot_r')\n",
    "plt.colorbar()"
   ]
  },
  {
   "cell_type": "code",
   "execution_count": null,
   "metadata": {},
   "outputs": [],
   "source": [
    "import pprint\n",
    "pp=pprint.PrettyPrinter(compact=True)\n",
    "pp.pprint(data.GetMetadat())"
   ]
  },
  {
   "cell_type": "code",
   "execution_count": null,
   "metadata": {},
   "outputs": [],
   "source": [
    "plt.close()\n",
    "del ds"
   ]
  },
  {
   "cell_type": "markdown",
   "metadata": {},
   "source": [
    "### Reading netCDF file\n",
    "\n",
    "> This data is downloaded from Meteorological & Oceanographic Satellite Data Archival Centre Space Applications Centre, ISRO. This is experimental 24 hour, 48 hour, 2 hour forecast for India using mesoscale Weather Research and Forecasting (WRF) model.\n",
    "\n",
    "\n",
    "> Following six surface parameters are displayed :\n",
    "\n",
    ">> Cloud : Range: (0.0-0.25) - Clear Sky, (0.26-0.74) - partial cloudy, (0.76-1.0) - cloudy\n",
    "\n",
    ">> Humidity : is in percentage\n",
    "\n",
    ">> Rain : is last 24 hour accumulated rain and is in mm.\n",
    "\n",
    ">> Rain : (0.0-0.4) - NO Rain, (0.5-7.5)- Light, (7.6-64.4) - moderate, (64.4+) - Heavy \n",
    "\n",
    ">> Temperature : is in celcius\n",
    "\n",
    ">> Wind Direction : is in degree, and follows meterological convention. 0 degree corresponds to Nor therly wind\n",
    "\n",
    ">> Wind Speed : is in m/s."
   ]
  },
  {
   "cell_type": "code",
   "execution_count": null,
   "metadata": {},
   "outputs": [],
   "source": [
    "nc_file='SAC_WRF_FCST_5KM_20210115.nc'"
   ]
  },
  {
   "cell_type": "code",
   "execution_count": null,
   "metadata": {},
   "outputs": [],
   "source": [
    "ds=gdal.Open(nc_file)"
   ]
  },
  {
   "cell_type": "code",
   "execution_count": null,
   "metadata": {},
   "outputs": [],
   "source": [
    "pp.pprint(ds.GetMetadata())"
   ]
  },
  {
   "cell_type": "code",
   "execution_count": null,
   "metadata": {},
   "outputs": [],
   "source": [
    "sds=ds.GetSubDatasets()"
   ]
  },
  {
   "cell_type": "code",
   "execution_count": null,
   "metadata": {},
   "outputs": [],
   "source": [
    "for sd,description in sds: \n",
    "    print(description)"
   ]
  },
  {
   "cell_type": "code",
   "execution_count": null,
   "metadata": {},
   "outputs": [],
   "source": [
    "temp_ds=gdal.Open(sds[0][0])"
   ]
  },
  {
   "cell_type": "code",
   "execution_count": null,
   "metadata": {},
   "outputs": [],
   "source": [
    "pp.pprint(temp_ds.GetMetadata())"
   ]
  },
  {
   "cell_type": "code",
   "execution_count": null,
   "metadata": {},
   "outputs": [],
   "source": [
    "temp_data=temp_ds.ReadAsArray()\n",
    "temp_data=temp_data-273"
   ]
  },
  {
   "cell_type": "code",
   "execution_count": null,
   "metadata": {},
   "outputs": [],
   "source": [
    "print(temp_data.dtype)"
   ]
  },
  {
   "cell_type": "code",
   "execution_count": null,
   "metadata": {},
   "outputs": [],
   "source": [
    "plt.figure(figsize=(12,12))\n",
    "plt.imshow(temp_data[0],cmap='hot',clim=(5,25))\n",
    "plt.colorbar()"
   ]
  },
  {
   "cell_type": "code",
   "execution_count": null,
   "metadata": {},
   "outputs": [],
   "source": [
    "plt.close()"
   ]
  },
  {
   "cell_type": "code",
   "execution_count": null,
   "metadata": {},
   "outputs": [],
   "source": [
    "plt.figure(figsize=(30,30))\n",
    "for i in range(25):\n",
    "    plt.subplot(5,5,i+1)\n",
    "    plt.imshow(temp_data[i], cmap='gist_heat')\n",
    "    plt.colorbar()\n",
    "    plt.title('temp at 2020-1-29+{hour}Hr'.format(hour=i))"
   ]
  },
  {
   "cell_type": "code",
   "execution_count": null,
   "metadata": {},
   "outputs": [],
   "source": [
    "for sd,description in sds:\n",
    "    print(i, description)"
   ]
  },
  {
   "cell_type": "code",
   "execution_count": null,
   "metadata": {},
   "outputs": [],
   "source": [
    "wind_speed=gdal.open(sds[8][0])"
   ]
  },
  {
   "cell_type": "code",
   "execution_count": null,
   "metadata": {},
   "outputs": [],
   "source": []
  }
 ],
 "metadata": {
  "kernelspec": {
   "display_name": "Python 3",
   "language": "python",
   "name": "python3"
  },
  "language_info": {
   "codemirror_mode": {
    "name": "ipython",
    "version": 3
   },
   "file_extension": ".py",
   "mimetype": "text/x-python",
   "name": "python",
   "nbconvert_exporter": "python",
   "pygments_lexer": "ipython3",
   "version": "3.7.4"
  }
 },
 "nbformat": 4,
 "nbformat_minor": 2
}
