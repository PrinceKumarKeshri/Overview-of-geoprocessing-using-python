{
 "cells": [
  {
   "cell_type": "markdown",
   "metadata": {},
   "source": [
    "### Vector Data\n",
    "\n",
    "> Vector data represent objects on the Earths surface using their longitude and latitude, as well as combination of the pairs of coordinates(lines, polylines, polygons, etc.)\n",
    "\n",
    "#### Point Data\n",
    "    \n",
    "> A pair of coordinates(longitude, latitude), that represents the location of points on the Earths surface.\n",
    "\n",
    "> Example : Location of drop boxes, landmarks, etc.\n",
    "\n",
    "#### Lines \n",
    "\n",
    "> A series of points that represents a line(straight or otherwise) on the Eaths surface.\n",
    "\n",
    "> Example : Center of roads , rivers, etc.\n",
    "\n",
    "#### Polygons\n",
    "\n",
    "> A series of points(vertices) that defines the outer edge of a region. \n",
    "\n",
    "> Example : Outlines of cities, countries, continents, etc.\n",
    "\n",
    "#### Credits :\n",
    "\n",
    "> Google Earth : https://developers.google.com/earth-engine/tutorials/community/bignners-cookbook\n",
    "\n",
    "> GeoPandas Tutorial : https://http://geopandas.org/\n",
    "\n",
    "\n",
    "### Introduction to Pandas\n",
    "\n",
    "#### Learning Objectives :\n",
    "\n",
    ">> Gain as introduction to the DataFrame and Series data structures of the pandas library\n",
    "\n",
    ">> Access and manipulate data within a DataFrame ans Series.\n",
    "\n",
    ">> Import CSV data into a pandas DataFrame\n",
    "\n",
    "\n",
    "> Pandas is a open source. BSD-licensed library providing high-performance, easy-to-use data structures and data analysis tools for the python programming language.\n",
    "\n",
    "> pandas is a column-oriented data analysis python library. It's a great tool for handling and analyzing input data.\n",
    "\n",
    "\n",
    "### Pandas Basics \n",
    "\n",
    "The primary data structures in pandas are implemented as two classes :\n",
    "\n",
    ">DataFrame, which you can imagine as a relational data table, with rows and named columns.\n",
    "\n",
    "> Series, which is a single column. A DataFrame contains one or more Series and a name for each Series.\n",
    "\n",
    "The data Frame is a commonly used for data manipulation."
   ]
  },
  {
   "cell_type": "code",
   "execution_count": null,
   "metadata": {},
   "outputs": [],
   "source": [
    "import pandas as pd\n",
    "import os\n",
    "os.chdir(r'directory name')"
   ]
  },
  {
   "cell_type": "markdown",
   "metadata": {},
   "source": [
    ">One way to create a Series is to construct a Series object by passing a list of values. For example :"
   ]
  },
  {
   "cell_type": "code",
   "execution_count": null,
   "metadata": {},
   "outputs": [],
   "source": [
    "pd. Series(['Dehradun', 'Almora', 'Pithoragraph'])"
   ]
  },
  {
   "cell_type": "markdown",
   "metadata": {},
   "source": [
    "> DataFrame objects can be created by passing a dict mapping string column names to their respective series."
   ]
  },
  {
   "cell_type": "code",
   "execution_count": null,
   "metadata": {},
   "outputs": [],
   "source": [
    "city_names=pd.Series(['Dehradun','Almora','Pithoragraph'])\n",
    "population=pd.Series([10000, 200000, 3000000])"
   ]
  },
  {
   "cell_type": "code",
   "execution_count": null,
   "metadata": {},
   "outputs": [],
   "source": [
    "population"
   ]
  },
  {
   "cell_type": "code",
   "execution_count": null,
   "metadata": {},
   "outputs": [],
   "source": [
    "pd.DataFrame({'City Name': city_names, 'population' : population})"
   ]
  },
  {
   "cell_type": "markdown",
   "metadata": {},
   "source": [
    "### Reading csv file "
   ]
  },
  {
   "cell_type": "code",
   "execution_count": null,
   "metadata": {},
   "outputs": [],
   "source": [
    "file_name='stations.csv'"
   ]
  },
  {
   "cell_type": "code",
   "execution_count": null,
   "metadata": {},
   "outputs": [],
   "source": [
    "df=pd.read_csv('stations.csv')"
   ]
  },
  {
   "cell_type": "code",
   "execution_count": null,
   "metadata": {},
   "outputs": [],
   "source": [
    "df"
   ]
  },
  {
   "cell_type": "markdown",
   "metadata": {},
   "source": [
    "> The example above used DataFrame.describe to show intresting statistics about a DataFrame. Another useful function is DataFrama.head, and DataFrame.tail which displays the first few records of a DataFrame :"
   ]
  },
  {
   "cell_type": "code",
   "execution_count": null,
   "metadata": {},
   "outputs": [],
   "source": [
    "df.describe()"
   ]
  },
  {
   "cell_type": "code",
   "execution_count": null,
   "metadata": {},
   "outputs": [],
   "source": [
    "df.head()"
   ]
  },
  {
   "cell_type": "code",
   "execution_count": null,
   "metadata": {},
   "outputs": [],
   "source": [
    "df.tail(10)"
   ]
  },
  {
   "cell_type": "markdown",
   "metadata": {},
   "source": [
    "### Accessing Data\n",
    "\n",
    "You can access DataFrame data using familiar python dict/list operations :"
   ]
  },
  {
   "cell_type": "code",
   "execution_count": null,
   "metadata": {},
   "outputs": [],
   "source": [
    "df['STATION ID']"
   ]
  },
  {
   "cell_type": "code",
   "execution_count": null,
   "metadata": {},
   "outputs": [],
   "source": [
    "df['STATION ID'][2]"
   ]
  },
  {
   "cell_type": "code",
   "execution_count": null,
   "metadata": {},
   "outputs": [],
   "source": [
    "df[df['STATION']=='HARIDWAR']"
   ]
  },
  {
   "cell_type": "markdown",
   "metadata": {},
   "source": [
    "### Manipulating Data\n",
    "\n",
    "> You may apply python's basic arithmetic operations to series . For example :"
   ]
  },
  {
   "cell_type": "code",
   "execution_count": null,
   "metadata": {},
   "outputs": [],
   "source": [
    "df['Lat in Min']=df['Latitude']*60"
   ]
  },
  {
   "cell_type": "code",
   "execution_count": null,
   "metadata": {},
   "outputs": [],
   "source": [
    "df"
   ]
  },
  {
   "cell_type": "markdown",
   "metadata": {},
   "source": [
    "### Indexes\n",
    "\n",
    ">Both series and DataFrame objects also define an index properly that assign an identifier value to each Series item or DataFrame row.\n",
    "\n",
    ">By default, at construction, pandas assigns index values that reflect the ordering of the source data. Once created , the index values are stable; that is, they do not change when data is recorded."
   ]
  },
  {
   "cell_type": "code",
   "execution_count": null,
   "metadata": {},
   "outputs": [],
   "source": [
    "df['STATION ID'].index"
   ]
  },
  {
   "cell_type": "code",
   "execution_count": null,
   "metadata": {},
   "outputs": [],
   "source": [
    "df['STATION ID'].reindex([2,0,1])"
   ]
  },
  {
   "cell_type": "markdown",
   "metadata": {},
   "source": [
    "> DataFrame.sort_values to sort the rows by one or more columns. For example "
   ]
  },
  {
   "cell_type": "code",
   "execution_count": null,
   "metadata": {},
   "outputs": [],
   "source": [
    "df.sort_values(by=['Latitude'])"
   ]
  },
  {
   "cell_type": "markdown",
   "metadata": {},
   "source": [
    "### Introduction to Geo Pandas\n",
    "\n",
    "#### Learning Objectives :\n",
    "\n",
    ">Gain an introduction to the GeoDataFrame and GeoSeries data structures of the geopandas library \n",
    "\n",
    ">Access and manipulate data within a GeoDataFrame and GeoSeries\n",
    "\n",
    ">Reading vector data\n",
    "\n",
    "> Manipulating vector data\n",
    "\n",
    "> Processing vector data\n",
    "\n",
    "> Writing vector data\n",
    "\n",
    "\n",
    "### GeoPandas Basics \n",
    "\n",
    "> Geopandas is an open source project to make working with geospatial data in python easier. GeoPandas extends the datatypes used by pandas to allow spatial operations on geometric types.\n",
    "\n",
    "> The primary data structures in geopandas are implemented as two classes :\n",
    "\n",
    ">> GeoSeries, is essentially a vector where each entry in the vector is a set of shapes corresponding to one observartion. Geopandas has three basic classes of geometric objects :\n",
    "\n",
    ">>>Points / Multi-Points\n",
    ">>>Lines / Multi-Lines\n",
    ">>>polygons / Multi-polygons\n",
    "\n",
    "> GeoDataFrame, is a tabular data structure that contains a GeoSeries. The most important properly of a GeoDataFrame is that it always has one GeoSeries column that holds a special  status. This GeoSeries is referred to as the GeoDataFrame's \"geometry\"\n",
    "\n",
    "\n",
    "### Reading and Writing Spatial Data\n",
    "\n",
    "### Vector Data Formats \n",
    "\n",
    "#####  ESRI Shape File :\n",
    "is simple, nontopological format for storing the geometric location and attribute information of geographic feature. the shapefile format defines the geometry and attributes of geographically referenced features in three or more files with specific fiel extensions : \n",
    "\n",
    ">.shp- The main file that stores the feature geometry, required.\n",
    "\n",
    ">.shx- The index file that stores the index of the feature geometry, required\n",
    "\n",
    ">.dbf - The dBASE table that stores the attribute  information of features, required\n",
    "\n",
    ">.sbn and .sbx - The files that store the spatial index of the features\n",
    "\n",
    ">.prj - The file that stores the coordinate system information\n",
    "\n",
    "\n",
    "#### GeoJSON :\n",
    "\n",
    "GeoJSON is a format encoding a variety of geographic data structures. A GeoJSON object may represent a region of space(a Geometr), a spatially bounded entity (a Feature), or a list of Features(a FeatureCollection). GeoJSON supports the following geometry types : Point, LineString, Polygon, MultiPoint, MultiLineString, MultiPolygon, and GeometryCollection. Features in GeoJSON contain a Geometry object and additional properties and a FeatureCollection contains a list of Features.\n",
    "\n",
    "\n",
    "{\"type\":\"Feature\",\n",
    "\"geometry\"{\n",
    "    \n",
    "    \"type\":\"point\",\n",
    "    \"coordinates\" : [78, 30]\n",
    "}\n",
    "\n",
    "\"propertise\":{\"name\":\"Dehradun\"}\n",
    "\n",
    "}\n",
    "\n",
    "\n",
    ">Geography Markup Language\n",
    "\n",
    ">Keyhole Markup Language\n",
    "\n",
    ">MongoDB\n",
    "\n",
    ">Microsoft SQL Server Spatial Database\n",
    "\n",
    ">OGS WFS service\n",
    "\n",
    ">etc.\n",
    "\n",
    "\n",
    "### Reading Shape File"
   ]
  },
  {
   "cell_type": "code",
   "execution_count": null,
   "metadata": {},
   "outputs": [],
   "source": [
    "import geopandas as gpd\n",
    "import numpy as np\n",
    "import pandas as pd\n",
    "import matplotlib.pyplot as plt\n",
    "from geopandas import GeoSeries"
   ]
  },
  {
   "cell_type": "code",
   "execution_count": null,
   "metadata": {},
   "outputs": [],
   "source": [
    "vector_file=''"
   ]
  },
  {
   "cell_type": "code",
   "execution_count": null,
   "metadata": {},
   "outputs": [],
   "source": [
    "india=gpd.read_file(vector_file)"
   ]
  },
  {
   "cell_type": "code",
   "execution_count": null,
   "metadata": {},
   "outputs": [],
   "source": [
    "india"
   ]
  },
  {
   "cell_type": "code",
   "execution_count": null,
   "metadata": {},
   "outputs": [],
   "source": [
    " india.geometry.name"
   ]
  },
  {
   "cell_type": "code",
   "execution_count": null,
   "metadata": {},
   "outputs": [],
   "source": [
    "india.crs"
   ]
  },
  {
   "cell_type": "markdown",
   "metadata": {},
   "source": [
    ">Renaming a column"
   ]
  },
  {
   "cell_type": "code",
   "execution_count": null,
   "metadata": {},
   "outputs": [],
   "source": [
    "india=india.rename(columns={'geometry':'borders'}).set_geometry('borders')"
   ]
  },
  {
   "cell_type": "code",
   "execution_count": null,
   "metadata": {},
   "outputs": [],
   "source": [
    "india.head()"
   ]
  },
  {
   "cell_type": "code",
   "execution_count": null,
   "metadata": {},
   "outputs": [],
   "source": [
    "india.plot(figsize=(18,14))"
   ]
  },
  {
   "cell_type": "markdown",
   "metadata": {},
   "source": [
    "### Reading Shape File(.zip)"
   ]
  },
  {
   "cell_type": "code",
   "execution_count": null,
   "metadata": {},
   "outputs": [],
   "source": [
    "vector_file= r'zip://zip file name.zip'"
   ]
  },
  {
   "cell_type": "code",
   "execution_count": null,
   "metadata": {},
   "outputs": [],
   "source": [
    "india = gdp.read_file(vector_file)"
   ]
  },
  {
   "cell_type": "code",
   "execution_count": null,
   "metadata": {},
   "outputs": [],
   "source": [
    "india.head()"
   ]
  },
  {
   "cell_type": "code",
   "execution_count": null,
   "metadata": {},
   "outputs": [],
   "source": [
    "india.plot(figsize=(18,14))"
   ]
  },
  {
   "cell_type": "code",
   "execution_count": null,
   "metadata": {},
   "outputs": [],
   "source": [
    "plt.close()"
   ]
  },
  {
   "cell_type": "markdown",
   "metadata": {},
   "source": [
    "### Subsetting GeoDataFrame File "
   ]
  },
  {
   "cell_type": "code",
   "execution_count": null,
   "metadata": {},
   "outputs": [],
   "source": [
    "subset = india[india['Name_1']=='Karnataka']"
   ]
  },
  {
   "cell_type": "code",
   "execution_count": null,
   "metadata": {},
   "outputs": [],
   "source": [
    "subset.head()"
   ]
  },
  {
   "cell_type": "code",
   "execution_count": null,
   "metadata": {},
   "outputs": [],
   "source": [
    "subset.plot(figsize=(10,10))"
   ]
  },
  {
   "cell_type": "code",
   "execution_count": null,
   "metadata": {},
   "outputs": [],
   "source": [
    "plt.close()"
   ]
  },
  {
   "cell_type": "markdown",
   "metadata": {},
   "source": [
    "### Reading subsets of the data\n",
    "\n",
    ">Geometry Filter"
   ]
  },
  {
   "cell_type": "code",
   "execution_count": null,
   "metadata": {},
   "outputs": [],
   "source": [
    "bbox={77.57,28.72, 81.84, 31.5}"
   ]
  },
  {
   "cell_type": "code",
   "execution_count": null,
   "metadata": {},
   "outputs": [],
   "source": [
    "uk=gpd.read_file(vector_file, bbox=bbox)"
   ]
  },
  {
   "cell_type": "code",
   "execution_count": null,
   "metadata": {},
   "outputs": [],
   "source": [
    "uk"
   ]
  },
  {
   "cell_type": "code",
   "execution_count": null,
   "metadata": {},
   "outputs": [],
   "source": [
    "uk.plot()"
   ]
  },
  {
   "cell_type": "code",
   "execution_count": null,
   "metadata": {},
   "outputs": [],
   "source": [
    "plt.close()"
   ]
  },
  {
   "cell_type": "markdown",
   "metadata": {},
   "source": [
    "### Reading GeoJSON File"
   ]
  },
  {
   "cell_type": "code",
   "execution_count": null,
   "metadata": {},
   "outputs": [],
   "source": [
    "gson='tehsil_almora.geojson'"
   ]
  },
  {
   "cell_type": "code",
   "execution_count": null,
   "metadata": {},
   "outputs": [],
   "source": [
    "almora=gpd.read_file(gson)"
   ]
  },
  {
   "cell_type": "code",
   "execution_count": null,
   "metadata": {},
   "outputs": [],
   "source": [
    "almora.head()"
   ]
  },
  {
   "cell_type": "code",
   "execution_count": null,
   "metadata": {},
   "outputs": [],
   "source": [
    "almora.plot()"
   ]
  },
  {
   "cell_type": "code",
   "execution_count": null,
   "metadata": {},
   "outputs": [],
   "source": [
    "ax=almora.plot()\n",
    "almora.apply(lambda x:ax.annotate(x.Tehsil,xy=x.geometry.centroid.coords[0],ha='center'),axis=1)\n",
    "#plt.close()"
   ]
  },
  {
   "cell_type": "code",
   "execution_count": null,
   "metadata": {},
   "outputs": [],
   "source": [
    "plt.close"
   ]
  },
  {
   "cell_type": "markdown",
   "metadata": {},
   "source": [
    "### Writing Shape File"
   ]
  },
  {
   "cell_type": "code",
   "execution_count": null,
   "metadata": {},
   "outputs": [],
   "source": [
    "almora"
   ]
  },
  {
   "cell_type": "code",
   "execution_count": null,
   "metadata": {},
   "outputs": [],
   "source": [
    "population = pd.Series(np.linspace(5000,20000,8))"
   ]
  },
  {
   "cell_type": "code",
   "execution_count": null,
   "metadata": {},
   "outputs": [],
   "source": [
    "population"
   ]
  },
  {
   "cell_type": "code",
   "execution_count": null,
   "metadata": {},
   "outputs": [],
   "source": [
    "almora['Population']=poplulation"
   ]
  },
  {
   "cell_type": "code",
   "execution_count": null,
   "metadata": {},
   "outputs": [],
   "source": [
    "almora.tail()"
   ]
  },
  {
   "cell_type": "code",
   "execution_count": null,
   "metadata": {},
   "outputs": [],
   "source": [
    "almora.to_file('almora.shp')"
   ]
  },
  {
   "cell_type": "markdown",
   "metadata": {},
   "source": [
    "### Writing GeoJSON file "
   ]
  },
  {
   "cell_type": "code",
   "execution_count": null,
   "metadata": {},
   "outputs": [],
   "source": [
    "almora.to_file('almora.geojson',drivers='GeoJSON')"
   ]
  },
  {
   "cell_type": "markdown",
   "metadata": {},
   "source": [
    "### Mapping with GeoPandas"
   ]
  },
  {
   "cell_type": "code",
   "execution_count": null,
   "metadata": {},
   "outputs": [],
   "source": [
    "vector_file='tehsil.shp'"
   ]
  },
  {
   "cell_type": "markdown",
   "metadata": {},
   "source": [
    ">Geopandas provides a high-level interface to the matplotlib library for making maps. Mapping shapes is as easy as using the plot() method on a GeoSeries or GeoDataFrame."
   ]
  },
  {
   "cell_type": "code",
   "execution_count": null,
   "metadata": {},
   "outputs": [],
   "source": [
    "uttarakhand=gdp.read_file(vector_file)"
   ]
  },
  {
   "cell_type": "code",
   "execution_count": null,
   "metadata": {},
   "outputs": [],
   "source": [
    "uttarakhand.head()"
   ]
  },
  {
   "cell_type": "code",
   "execution_count": null,
   "metadata": {},
   "outputs": [],
   "source": [
    "uttarakhand.plot(color='green')"
   ]
  },
  {
   "cell_type": "code",
   "execution_count": null,
   "metadata": {},
   "outputs": [],
   "source": [
    "population = pd.Series(np.random.randint(10000, 90000, len(uttarakhand)))"
   ]
  },
  {
   "cell_type": "code",
   "execution_count": null,
   "metadata": {},
   "outputs": [],
   "source": [
    "uttarakhand['Population']=population"
   ]
  },
  {
   "cell_type": "markdown",
   "metadata": {},
   "source": [
    "### Choropleth Maps\n",
    "\n",
    "> geopanda makes it easy to create Choropleth maps (maps where the color of each shape is based on the value of an associated variable)"
   ]
  },
  {
   "cell_type": "code",
   "execution_count": null,
   "metadata": {},
   "outputs": [],
   "source": [
    "uttarakhand.plot(column='Population')"
   ]
  },
  {
   "cell_type": "markdown",
   "metadata": {},
   "source": [
    "### Creating a legend\n",
    "\n",
    ">When plotting a map, one can enable a legend using the legend argument"
   ]
  },
  {
   "cell_type": "code",
   "execution_count": null,
   "metadata": {},
   "outputs": [],
   "source": [
    "uttarakhand.plot(column='Population',legend=True)"
   ]
  },
  {
   "cell_type": "markdown",
   "metadata": {},
   "source": [
    "### Changing a legend orientation"
   ]
  },
  {
   "cell_type": "code",
   "execution_count": null,
   "metadata": {},
   "outputs": [],
   "source": [
    "uttarakhand.plot(column='Population',legend=True,legend_kwds={'label':'Population by Tehsil', 'orientation':'horizontal'}, figsize=(5,5))"
   ]
  },
  {
   "cell_type": "markdown",
   "metadata": {},
   "source": [
    "### Changing colors\n",
    "\n",
    ">colors can be modified by plot with the cmap option"
   ]
  },
  {
   "cell_type": "code",
   "execution_count": null,
   "metadata": {},
   "outputs": [],
   "source": [
    "uttarkhand.plot(column='Population',cmap='Accent',legend=True)"
   ]
  },
  {
   "cell_type": "markdown",
   "metadata": {},
   "source": [
    "> The way color maps are scaled can also be manipulated with the schema option. The schema option can be set to any schema provided by mapclassify(e.g. 'box_plot', 'equal_interval', 'fisher_jenks', 'fisher_jenks_sampled', 'headtail_breaks', 'jenks_caspall','jenks_caspall_forced', 'jenks_caspall_sampled, 'max_p_classifier', 'maximum_breaks', 'natural_breaks', 'quantities', percentiles', 'std_mean' or 'user_defined')"
   ]
  },
  {
   "cell_type": "code",
   "execution_count": null,
   "metadata": {},
   "outputs": [],
   "source": [
    "uttarakhand.plot(column='Population', cmap='Accent', legends=True, schema='maximum_breaks', figsize=(10, 10))"
   ]
  },
  {
   "cell_type": "code",
   "execution_count": null,
   "metadata": {},
   "outputs": [],
   "source": [
    "del uttarakhand"
   ]
  },
  {
   "cell_type": "code",
   "execution_count": null,
   "metadata": {},
   "outputs": [],
   "source": []
  },
  {
   "cell_type": "code",
   "execution_count": null,
   "metadata": {},
   "outputs": [],
   "source": []
  },
  {
   "cell_type": "code",
   "execution_count": null,
   "metadata": {},
   "outputs": [],
   "source": []
  },
  {
   "cell_type": "code",
   "execution_count": null,
   "metadata": {},
   "outputs": [],
   "source": []
  },
  {
   "cell_type": "code",
   "execution_count": null,
   "metadata": {},
   "outputs": [],
   "source": []
  },
  {
   "cell_type": "code",
   "execution_count": null,
   "metadata": {},
   "outputs": [],
   "source": []
  }
 ],
 "metadata": {
  "kernelspec": {
   "display_name": "Python 3",
   "language": "python",
   "name": "python3"
  },
  "language_info": {
   "codemirror_mode": {
    "name": "ipython",
    "version": 3
   },
   "file_extension": ".py",
   "mimetype": "text/x-python",
   "name": "python",
   "nbconvert_exporter": "python",
   "pygments_lexer": "ipython3",
   "version": "3.7.4"
  }
 },
 "nbformat": 4,
 "nbformat_minor": 2
}
